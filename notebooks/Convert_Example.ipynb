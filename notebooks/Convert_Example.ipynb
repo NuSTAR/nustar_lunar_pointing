{
 "cells": [
  {
   "cell_type": "markdown",
   "metadata": {},
   "source": [
    "# Code for converting an observation to solar coordinates"
   ]
  },
  {
   "cell_type": "markdown",
   "metadata": {},
   "source": [
    "## Step 1: Run the pipeline on the data to get mode06 files with the correct status bit setting.\n",
    "\n",
    "Note that as of nustardas verion 1.6.0 you can now set the \"runsplitsc\" keyword to automatically split the CHU combinations for mode06 into separate data files.\n",
    "\n",
    "These files will be stored in the event_cl output directory and have filenames like: nu20201001001A06_chu2_N_cl.evt"
   ]
  },
  {
   "cell_type": "markdown",
   "metadata": {},
   "source": [
    "### Optional: Check and see how much exposure is in each file.\n",
    "\n",
    "Use the [Observation Report Notebook](Observation_Report.ipynb) example to see how to do this."
   ]
  },
  {
   "cell_type": "markdown",
   "metadata": {},
   "source": [
    "## Step 2: Convert the data to heliocentric coordinates.\n",
    "\n",
    "Below uses the nustar.convert methods to change the image to heliocentric coordinates from RA/dec coordinates.\n"
   ]
  },
  {
   "cell_type": "markdown",
   "metadata": {},
   "source": [
    "Load the python libraries that we're going to use:"
   ]
  },
  {
   "cell_type": "code",
   "execution_count": 1,
   "metadata": {
    "collapsed": false
   },
   "outputs": [
    {
     "name": "stderr",
     "output_type": "stream",
     "text": [
      "WARNING: AstropyDeprecationWarning: astropy.utils.compat.odict.OrderedDict is now deprecated - import OrderedDict from the collections module instead [astropy.utils.compat.odict]\n"
     ]
    }
   ],
   "source": [
    "import sys\n",
    "from os.path import *\n",
    "import os\n",
    "\n",
    "# For loading the NuSTAR data\n",
    "from astropy.io import fits\n",
    "\n",
    "# Load the NuSTAR python libraries\n",
    "import nustar_pysolar as nustar\n",
    "\n",
    "\n"
   ]
  },
  {
   "cell_type": "markdown",
   "metadata": {},
   "source": [
    "### Get the data from the FITS file.\n",
    "\n",
    "Here we loop over the header keywords to get the correct columns for the X/Y coordinates. We also parse the FITS header to get the data we need to project the X/Y values (which are integers from 0-->1000) into RA/dec coordinates."
   ]
  },
  {
   "cell_type": "code",
   "execution_count": 5,
   "metadata": {
    "collapsed": false
   },
   "outputs": [],
   "source": [
    "infile = '/Users/bwgref/science/solar/july_2016/data/20201002001/event_cl/nu20201002001B06_chu3_N_cl.evt'\n",
    "hdulist = fits.open(infile)\n",
    "evtdata = hdulist[1].data \n",
    "\n",
    "\n",
    "hdr = hdulist[1].header\n",
    "hdulist.close()"
   ]
  },
  {
   "cell_type": "markdown",
   "metadata": {},
   "source": [
    "### Rotate to solar coordinates:\n",
    "\n",
    "Variation on what we did to setup the pointing.\n",
    "\n",
    "Note that this can take a little bit of time to run (~a minute or two).\n",
    "\n",
    "The important optin here is how frequently one wants to recompute the position of the Sun. The default is once every 5 seconds.\n",
    "\n",
    "Note that this can take a while (~minutes), so I recommend saving the output as a new FITS file (below)."
   ]
  },
  {
   "cell_type": "code",
   "execution_count": 6,
   "metadata": {
    "collapsed": false
   },
   "outputs": [
    {
     "name": "stdout",
     "output_type": "stream",
     "text": [
      "\n",
      "\n",
      "\n",
      "\n"
     ]
    }
   ],
   "source": [
    "(newdata, newhdr) = nustar.convert.to_solar(evtdata, hdr, maxEvt=100)"
   ]
  },
  {
   "cell_type": "markdown",
   "metadata": {},
   "source": [
    "### Write the output to a new FITS file.\n",
    "\n",
    "Below keeps the RAWX, RAWY, DET_ID, GRADE, and PI columns from the original file. It repalces the X/Y columns with the new sun_x, sun_y columns."
   ]
  },
  {
   "cell_type": "code",
   "execution_count": 5,
   "metadata": {
    "collapsed": false
   },
   "outputs": [
    {
     "name": "stdout",
     "output_type": "stream",
     "text": [
      "../data/Sol_16208/20201001001/event_cl/nu20201001001B06_chu3_N_cl_sunpos.evt exists! Removing old version...\n"
     ]
    }
   ],
   "source": [
    "# # Make the new filename:\n",
    "(sfile, ext)=splitext(infile)\n",
    "\n",
    "outfile=sfile+'_sunpos.evt'\n",
    "\n",
    "# Remove output file if necessary\n",
    "if isfile(outfile):\n",
    "    print(outfile, 'exists! Removing old version...')\n",
    "    os.remove(outfile)\n",
    "\n",
    "fits.writeto(outfile, newdata, newhdr)"
   ]
  }
 ],
 "metadata": {
  "anaconda-cloud": {},
  "kernelspec": {
   "display_name": "Python [conda root]",
   "language": "python",
   "name": "conda-root-py"
  },
  "language_info": {
   "codemirror_mode": {
    "name": "ipython",
    "version": 3
   },
   "file_extension": ".py",
   "mimetype": "text/x-python",
   "name": "python",
   "nbconvert_exporter": "python",
   "pygments_lexer": "ipython3",
   "version": "3.5.1"
  }
 },
 "nbformat": 4,
 "nbformat_minor": 0
}
