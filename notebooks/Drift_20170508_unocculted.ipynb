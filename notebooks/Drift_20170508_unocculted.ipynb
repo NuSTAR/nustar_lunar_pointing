{
 "cells": [
  {
   "cell_type": "code",
   "execution_count": 2,
   "metadata": {
    "collapsed": false
   },
   "outputs": [],
   "source": [
    "from astropy.io.fits import getdata, getheader\n",
    "import astropy.units as u\n",
    "from nustar_lunar_pointing.tracking import get_epoch_tle\n",
    "from nustar_lunar_pointing.tracking import convert_nustar_time\n",
    "from nustar_lunar_pointing.tracking import get_moon_j2000\n",
    "\n",
    "import matplotlib.pyplot as plt\n",
    "%matplotlib notebook"
   ]
  },
  {
   "cell_type": "code",
   "execution_count": 4,
   "metadata": {
    "collapsed": false
   },
   "outputs": [
    {
     "name": "stdout",
     "output_type": "stream",
     "text": [
      "Days between TLE entry and when you want to observe:  15\n"
     ]
    }
   ],
   "source": [
    "from datetime import datetime\n",
    "\n",
    "checktime = datetime.strptime('2017-05-08', \"%Y-%m-%d\")\n",
    "tlefile = '../data/NuSTAR.tle'\n",
    "mindt, line1, line2 = get_epoch_tle(checktime, tlefile)\n",
    "print('Days between TLE entry and when you want to observe: ', mindt)"
   ]
  },
  {
   "cell_type": "code",
   "execution_count": 55,
   "metadata": {
    "collapsed": false
   },
   "outputs": [],
   "source": [
    "from astropy.coordinates import SkyCoord\n",
    "from datetime import timedelta\n",
    "ra = []\n",
    "dec =[]\n",
    "times= []\n",
    "base_ra = None\n",
    "base_dec = None\n",
    "\n",
    "step_size = timedelta(0, 2.) # 2 second steps for checking the Moon motion\n",
    "\n",
    "# Start and stop time for the unocculted period that we're looking at:\n",
    "checktime = datetime.strptime('2017-05-08T11:23:04', \"%Y-%m-%dT%H:%M:%S\")\n",
    "end_time = datetime.strptime('2017-05-08T12:18:55', \"%Y-%m-%dT%H:%M:%S\")\n",
    "\n",
    "last_pos = None\n",
    "dt = []\n",
    "dra = []\n",
    "ddec= []\n",
    "\n",
    "# How large a motion of the moon you can have:\n",
    "limit = 2 #arcminutes\n",
    "\n",
    "set = 0\n",
    "ctr = 0\n",
    "last_time = None\n",
    "base_ra = None\n",
    "\n",
    "while ( (end_time - checktime).total_seconds() ) > 0:\n",
    "    checktime += step_size\n",
    "    \n",
    "    ra_moon, dec_moon = get_moon_j2000(checktime, line1, line2)\n",
    "    this_pos = SkyCoord(ra_moon, dec_moon)\n",
    "    \n",
    "    # Init values:\n",
    "    if base_ra is None:\n",
    "        base_ra = ra_moon\n",
    "        base_dec = dec_moon\n",
    "    else:\n",
    "        dra.extend([ra_moon - base_ra])\n",
    "        ddec.extend([dec_moon - base_dec])\n",
    "\n",
    "        \n",
    "    # Check to see if you're updating the interval or not:\n",
    "    if set == 0:\n",
    "        last_pos = this_pos\n",
    "        \n",
    "        if last_time is not None:\n",
    "            dt.extend([checktime - last_time])\n",
    "            ctr += 1\n",
    "\n",
    "        last_time = checktime\n",
    "        set = 1\n",
    "        \n",
    "    else:\n",
    "        \n",
    "        if( this_pos.separation(last_pos).arcmin > limit):\n",
    "            set = 0"
   ]
  },
  {
   "cell_type": "code",
   "execution_count": 81,
   "metadata": {
    "collapsed": false
   },
   "outputs": [
    {
     "name": "stdout",
     "output_type": "stream",
     "text": [
      "Dwell time:  80.23529411764706\n",
      "Dwell time:  128.23529411764707\n",
      "Dwell time:  348.2352941176471\n",
      "Dwell time:  92.23529411764706\n",
      "Dwell time:  70.23529411764706\n",
      "Dwell time:  58.23529411764706\n",
      "Dwell time:  50.23529411764706\n",
      "Dwell time:  46.23529411764706\n",
      "Dwell time:  42.23529411764706\n",
      "Dwell time:  38.23529411764706\n",
      "Dwell time:  36.23529411764706\n",
      "Dwell time:  34.23529411764706\n",
      "Dwell time:  32.23529411764706\n",
      "Dwell time:  30.235294117647058\n",
      "Dwell time:  30.235294117647058\n",
      "Dwell time:  28.235294117647058\n",
      "Dwell time:  28.235294117647058\n",
      "Dwell time:  28.235294117647058\n",
      "Dwell time:  26.235294117647058\n",
      "Dwell time:  26.235294117647058\n",
      "Dwell time:  26.235294117647058\n",
      "Dwell time:  26.235294117647058\n",
      "Dwell time:  26.235294117647058\n",
      "Dwell time:  26.235294117647058\n",
      "Dwell time:  26.235294117647058\n",
      "Dwell time:  26.235294117647058\n",
      "Dwell time:  26.235294117647058\n",
      "Dwell time:  26.235294117647058\n",
      "Dwell time:  26.235294117647058\n",
      "Dwell time:  26.235294117647058\n",
      "Dwell time:  26.235294117647058\n",
      "Dwell time:  26.235294117647058\n",
      "Dwell time:  28.235294117647058\n",
      "Dwell time:  28.235294117647058\n",
      "Dwell time:  28.235294117647058\n",
      "Dwell time:  30.235294117647058\n",
      "Dwell time:  30.235294117647058\n",
      "Dwell time:  32.23529411764706\n",
      "Dwell time:  34.23529411764706\n",
      "Dwell time:  34.23529411764706\n",
      "Dwell time:  38.23529411764706\n",
      "Dwell time:  40.23529411764706\n",
      "Dwell time:  44.23529411764706\n",
      "Dwell time:  48.23529411764706\n",
      "Dwell time:  54.23529411764706\n",
      "Dwell time:  64.23529411764706\n",
      "Dwell time:  82.23529411764706\n",
      "Dwell time:  132.23529411764707\n",
      "Dwell time:  384.2352941176471\n",
      "\n",
      "Stationary exposure:  2703.5294117647063\n",
      "Total Exposure:  3280.0\n",
      "Efficiency:  0.8242467718794836\n",
      "Number of dwells:  49 (Used) 49 (Total)\n"
     ]
    }
   ],
   "source": [
    "ctr = 0\n",
    "exp = 0.\n",
    "all_exp = 0.\n",
    "slew_rate = 0.17 # arcmin / sec\n",
    "slew_time = limit / slew_rate\n",
    "\n",
    "for t in dt:\n",
    "    if (t.total_seconds() - slew_time > 0):\n",
    "        ctr += 1\n",
    "        exp += t.total_seconds() - slew_time\n",
    "        print('Dwell time: ', t.total_seconds() - slew_time)\n",
    "#        print(t.total_seconds())\n",
    "    all_exp += t.total_seconds()\n",
    "print()\n",
    "print('Stationary exposure: ', exp)\n",
    "print('Total Exposure: ', all_exp)\n",
    "print('Efficiency: ', exp / all_exp)\n",
    "print('Number of dwells: ', ctr, '(Used)', len(dt), '(Total)')"
   ]
  },
  {
   "cell_type": "code",
   "execution_count": null,
   "metadata": {
    "collapsed": true
   },
   "outputs": [],
   "source": []
  }
 ],
 "metadata": {
  "anaconda-cloud": {},
  "kernelspec": {
   "display_name": "Python [default]",
   "language": "python",
   "name": "python3"
  },
  "language_info": {
   "codemirror_mode": {
    "name": "ipython",
    "version": 3
   },
   "file_extension": ".py",
   "mimetype": "text/x-python",
   "name": "python",
   "nbconvert_exporter": "python",
   "pygments_lexer": "ipython3",
   "version": "3.5.2"
  }
 },
 "nbformat": 4,
 "nbformat_minor": 2
}
