{
 "cells": [
  {
   "cell_type": "code",
   "execution_count": 1,
   "metadata": {
    "collapsed": false
   },
   "outputs": [],
   "source": [
    "import astropy.units as u\n",
    "from astropy.time import Time"
   ]
  },
  {
   "cell_type": "code",
   "execution_count": 2,
   "metadata": {
    "collapsed": false
   },
   "outputs": [
    {
     "name": "stderr",
     "output_type": "stream",
     "text": [
      "WARNING: AstropyDeprecationWarning: astropy.utils.compat.odict.OrderedDict is now deprecated - import OrderedDict from the collections module instead [astropy.utils.compat.odict]\n"
     ]
    }
   ],
   "source": [
    "from nustar_lunar_pointing.orbit import get_epoch_tle"
   ]
  },
  {
   "cell_type": "code",
   "execution_count": 14,
   "metadata": {
    "collapsed": false
   },
   "outputs": [
    {
     "name": "stdout",
     "output_type": "stream",
     "text": [
      "0.00076601852\n",
      "2016-04-29T09:35:02\n",
      "0\n",
      "1 99105U 12031A   16120.39200650  .00001435  00000-0  79059-4 0  9993\n",
      "2 99105   6.0268  71.6065 0011540  97.4088 262.7353 14.87347181210735\n"
     ]
    }
   ],
   "source": [
    "from datetime import datetime\n",
    "from sgp4.earth_gravity import wgs72\n",
    "from sgp4.io import twoline2rv\n",
    "from astropy.io.fits import getdata, getheader\n",
    "\n",
    "tlefile = '../data/NUSTAR_TLE_ARCHIVE.txt.2016122'\n",
    "att = getdata('../data/nu30102028006A.attorb')\n",
    "hdr = getheader('../data/nu30102028006A.attorb', 1)\n",
    "mjdref = hdr['MJDREFI']\n",
    "met = att[0]['TIME']*u.s + mjdref*u.d #+ mjdreff*u.d\n",
    "\n",
    "print(mjdreff)\n",
    "\n",
    "checktime = Time(met.to(u.d), format = 'mjd').datetime\n",
    "print(checktime.isoformat())\n",
    "mindt, line1, line2 = get_epoch_tle(checktime, tlefile)\n",
    "print(mindt)\n",
    "print(line1)\n",
    "print(line2)\n",
    "\n",
    "\n",
    "satellite = twoline2rv(line1, line2, wgs72)\n"
   ]
  },
  {
   "cell_type": "code",
   "execution_count": 15,
   "metadata": {
    "collapsed": false
   },
   "outputs": [
    {
     "name": "stdout",
     "output_type": "stream",
     "text": [
      "[-2425.53173828  6524.64599609   466.88754272]\n",
      "(-2464.1505833583865, 6510.350554074878, 463.96566970651753)\n"
     ]
    }
   ],
   "source": [
    "print(att[0]['POSITION'])\n",
    "\n",
    "position, velocity = satellite.propagate(\n",
    "    checktime.year, checktime.month, checktime.day, checktime.hour, checktime.minute, checktime.second)\n",
    "print(position)"
   ]
  },
  {
   "cell_type": "code",
   "execution_count": 16,
   "metadata": {
    "collapsed": true
   },
   "outputs": [],
   "source": [
    "from astropy.coordinates import EarthLocation"
   ]
  },
  {
   "cell_type": "code",
   "execution_count": 21,
   "metadata": {
    "collapsed": false
   },
   "outputs": [],
   "source": [
    "foo = EarthLocation.from_geocentric(*position * u.km)"
   ]
  },
  {
   "cell_type": "code",
   "execution_count": 35,
   "metadata": {
    "collapsed": false
   },
   "outputs": [
    {
     "name": "stdout",
     "output_type": "stream",
     "text": [
      "3.836611870483933\n",
      "110.73152266062574\n",
      "598.4876946149096 km\n",
      "3.83724\n",
      "108.866\n",
      "598.409898437\n"
     ]
    }
   ],
   "source": [
    "print(foo.latitude.deg)\n",
    "print(foo.longitude.deg)\n",
    "print(foo.height)\n",
    "print(att[0]['SAT_LAT'])\n",
    "print(att[0]['SAT_LON'])\n",
    "print(att[0]['SAT_ALT'] - u.R_earth.to(u.km))"
   ]
  },
  {
   "cell_type": "code",
   "execution_count": 39,
   "metadata": {
    "collapsed": false
   },
   "outputs": [],
   "source": [
    "from astropy.coordinates import get_moon\n",
    "from astropy.time import Time\n",
    "\n"
   ]
  },
  {
   "cell_type": "code",
   "execution_count": 78,
   "metadata": {
    "collapsed": false
   },
   "outputs": [],
   "source": [
    "pos = list(position)\n",
    "pos[0] += 50\n",
    "foo = EarthLocation.from_geocentric(*pos * u.km)"
   ]
  },
  {
   "cell_type": "code",
   "execution_count": 79,
   "metadata": {
    "collapsed": true
   },
   "outputs": [],
   "source": [
    "t = Time(checktime)\n",
    "loc = foo\n",
    "moon_coords = get_moon(t,loc)\n",
    "ra_moon1, dec_moon1 = moon_coords.ra.degree, moon_coords.dec.degree\n"
   ]
  },
  {
   "cell_type": "code",
   "execution_count": 80,
   "metadata": {
    "collapsed": false
   },
   "outputs": [
    {
     "data": {
      "text/plain": [
       "(301.34952574681444, -16.033258601587445)"
      ]
     },
     "execution_count": 80,
     "metadata": {},
     "output_type": "execute_result"
    }
   ],
   "source": [
    "# Old version\n",
    "ra_moon, dec_moon"
   ]
  },
  {
   "cell_type": "code",
   "execution_count": 77,
   "metadata": {
    "collapsed": false
   },
   "outputs": [
    {
     "data": {
      "text/plain": [
       "(301.3429546046582, -16.03425571775049)"
      ]
     },
     "execution_count": 77,
     "metadata": {},
     "output_type": "execute_result"
    }
   ],
   "source": [
    "# New version\n",
    "ra_moon, dec_moon"
   ]
  },
  {
   "cell_type": "code",
   "execution_count": 81,
   "metadata": {
    "collapsed": true
   },
   "outputs": [],
   "source": [
    "from astropy.coordinates import SkyCoord"
   ]
  },
  {
   "cell_type": "code",
   "execution_count": 85,
   "metadata": {
    "collapsed": false
   },
   "outputs": [
    {
     "ename": "TypeError",
     "evalue": "unsupported operand type(s) for -: 'SkyCoord' and 'SkyCoord'",
     "output_type": "error",
     "traceback": [
      "\u001b[0;31m---------------------------------------------------------------------------\u001b[0m",
      "\u001b[0;31mTypeError\u001b[0m                                 Traceback (most recent call last)",
      "\u001b[0;32m<ipython-input-85-2d9a4ebd405a>\u001b[0m in \u001b[0;36m<module>\u001b[0;34m()\u001b[0m\n\u001b[1;32m      1\u001b[0m \u001b[0msk1\u001b[0m \u001b[0;34m=\u001b[0m \u001b[0mSkyCoord\u001b[0m\u001b[0;34m(\u001b[0m\u001b[0;36m301.34952574681444\u001b[0m\u001b[0;34m*\u001b[0m\u001b[0mu\u001b[0m\u001b[0;34m.\u001b[0m\u001b[0mdeg\u001b[0m\u001b[0;34m,\u001b[0m \u001b[0;34m-\u001b[0m\u001b[0;36m16.033258601587445\u001b[0m\u001b[0;34m*\u001b[0m\u001b[0mu\u001b[0m\u001b[0;34m.\u001b[0m\u001b[0mdeg\u001b[0m\u001b[0;34m)\u001b[0m\u001b[0;34m\u001b[0m\u001b[0m\n\u001b[1;32m      2\u001b[0m \u001b[0msk2\u001b[0m \u001b[0;34m=\u001b[0m \u001b[0mSkyCoord\u001b[0m\u001b[0;34m(\u001b[0m\u001b[0;36m301.3429546046582\u001b[0m\u001b[0;34m*\u001b[0m\u001b[0mu\u001b[0m\u001b[0;34m.\u001b[0m\u001b[0mdeg\u001b[0m\u001b[0;34m,\u001b[0m \u001b[0;34m-\u001b[0m\u001b[0;36m16.03425571775049\u001b[0m\u001b[0;34m*\u001b[0m\u001b[0mu\u001b[0m\u001b[0;34m.\u001b[0m\u001b[0mdeg\u001b[0m\u001b[0;34m)\u001b[0m\u001b[0;34m\u001b[0m\u001b[0m\n\u001b[0;32m----> 3\u001b[0;31m \u001b[0msk2\u001b[0m \u001b[0;34m-\u001b[0m \u001b[0msk1\u001b[0m\u001b[0;34m\u001b[0m\u001b[0m\n\u001b[0m",
      "\u001b[0;31mTypeError\u001b[0m: unsupported operand type(s) for -: 'SkyCoord' and 'SkyCoord'"
     ]
    }
   ],
   "source": [
    "sk1 = SkyCoord(301.34952574681444*u.deg, -16.033258601587445*u.deg)\n",
    "sk2 = SkyCoord(301.3429546046582*u.deg, -16.03425571775049*u.deg)\n",
    "sk2 - sk1"
   ]
  },
  {
   "cell_type": "code",
   "execution_count": 86,
   "metadata": {
    "collapsed": false
   },
   "outputs": [
    {
     "data": {
      "text/latex": [
       "$0^\\circ00{}^\\prime23.0175{}^{\\prime\\prime}$"
      ],
      "text/plain": [
       "<Angle 0.006393748592840043 deg>"
      ]
     },
     "execution_count": 86,
     "metadata": {},
     "output_type": "execute_result"
    }
   ],
   "source": [
    "sk1.separation(sk2)"
   ]
  },
  {
   "cell_type": "code",
   "execution_count": null,
   "metadata": {
    "collapsed": true
   },
   "outputs": [],
   "source": []
  }
 ],
 "metadata": {
  "anaconda-cloud": {},
  "kernelspec": {
   "display_name": "Python [default]",
   "language": "python",
   "name": "python3"
  },
  "language_info": {
   "codemirror_mode": {
    "name": "ipython",
    "version": 3
   },
   "file_extension": ".py",
   "mimetype": "text/x-python",
   "name": "python",
   "nbconvert_exporter": "python",
   "pygments_lexer": "ipython3",
   "version": "3.5.1"
  }
 },
 "nbformat": 4,
 "nbformat_minor": 2
}
