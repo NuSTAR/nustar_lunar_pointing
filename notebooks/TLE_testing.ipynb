{
 "cells": [
  {
   "cell_type": "code",
   "execution_count": 1,
   "metadata": {
    "collapsed": false
   },
   "outputs": [
    {
     "name": "stderr",
     "output_type": "stream",
     "text": [
      "WARNING: AstropyDeprecationWarning: astropy.utils.compat.odict.OrderedDict is now deprecated - import OrderedDict from the collections module instead [astropy.utils.compat.odict]\n"
     ]
    }
   ],
   "source": [
    "from astropy.io.fits import getdata, getheader\n",
    "from nustar_lunar_pointing.orbit import get_epoch_tle, convert_nustar_time, get_moon_j2000"
   ]
  },
  {
   "cell_type": "markdown",
   "metadata": {},
   "source": [
    "### Load in the attorb data and figure out which TLE row you're going to use."
   ]
  },
  {
   "cell_type": "code",
   "execution_count": 73,
   "metadata": {
    "collapsed": false
   },
   "outputs": [],
   "source": [
    "tlefile = '../data/NUSTAR_TLE_ARCHIVE.txt.2016122'\n",
    "att = getdata('../data/nu30102028006A.attorb')\n",
    "hdr = getheader('../data/nu30102028006A.attorb', 1)\n",
    "mjdref = hdr['MJDREFI']\n",
    "\n",
    "checktime = convert_nustar_time(att[0]['TIME'])\n",
    "mindt, line1, line2 = get_epoch_tle(checktime, tlefile)"
   ]
  },
  {
   "cell_type": "markdown",
   "metadata": {},
   "source": [
    "### Loop over the entries in the attorb file and see if the Moon moves.\n",
    "\n",
    "Good news, there's less than 3\" shift now between using the positions in the attorb file and when you use the TLE to determine the position."
   ]
  },
  {
   "cell_type": "code",
   "execution_count": 74,
   "metadata": {
    "collapsed": false
   },
   "outputs": [
    {
     "name": "stdout",
     "output_type": "stream",
     "text": [
      "[3.6305047005545035, 3.949366537089424, 3.6387196883943265, 3.642777594977645, 3.6469103081636924, 3.6510041863046077, 3.6551531662694563, 3.6592437190849183, 3.6633917834649887, 3.9853964789955567, 3.6715778842833924, 3.675603682675079, 3.679686835184939, 3.683748399914219, 3.687870122568211, 3.691985827132534, 3.6960049830738915, 3.7000765758012033, 3.7040690846993383, 3.708172645530046, 3.712177658562114, 3.7162983942037076, 3.7203702418604756, 3.724421253038198, 3.728435673631506, 3.7324861913611262, 3.7364341267644945, 3.740462492531553, 4.070406959895392, 3.748601887371396, 3.752632871964637, 3.7566196539810353, 3.7606013392251443, 3.764555368422063, 3.768568352582263, 3.772604076219319, 4.105786763800521, 3.780600521895563, 3.784631031006597, 3.788601736896683, 3.7924972066652325, 3.796457543571179, 3.800412782834013, 3.804490558632781, 4.140912306746032, 3.812398879071754, 3.8163552835791337, 3.820310115819376, 3.824174374318764, 3.828141015046826, 3.8320671364415717, 3.8360513124700626, 4.175874882193115, 3.8439282469499387, 3.847865495597576, 3.851726303682021, 3.8555994794333124, 3.859499726280751, 3.863483440471017, 3.867423385059898, 3.871327478146666, 3.8751700687155495, 3.8790971439139876, 4.223671874405964, 3.8867869878174313, 3.8906886203011717, 3.8946390190632982, 3.8984732728327147, 3.9023803669025403, 3.906201843503883, 3.9100392887380746, 4.258154751547911, 3.9177429865942446, 3.921613605543325, 3.925484075009162, 3.929333675597665, 3.9331414354026917, 3.936951911883011, 3.940767475699353, 4.2924781336157105, 3.948401848518566, 3.952242810643031, 3.956082371505813, 3.9598588317741896, 3.9636678133547325, 3.96740224241489, 3.971207757814944, 4.326467617434096, 3.9788494219431803, 3.9826594937656417, 3.986424479587064, 3.9902052781921142, 3.993901924600338, 3.9976525372966116, 4.001386062093841, 4.0052256332286795, 4.009010815494238, 4.012707497149082, 4.016506430174989, 4.020216013352905, 4.0238592723272175, 4.027637314039224]\n"
     ]
    }
   ],
   "source": [
    "from astropy.coordinates import SkyCoord\n",
    "doff = []\n",
    "for ind, t0 in enumerate(att['Time']):\n",
    "    t1 = convert_nustar_time(t0-5)\n",
    "\n",
    "    \n",
    "    ra_moon1, dec_moon1 = get_moon_j2000(t1, line1, line2)\n",
    "    moon_sky1 = SkyCoord(ra_moon1, dec_moon1)\n",
    "\n",
    "    position = att[ind]['Position']\n",
    "    ra_moon2, dec_moon2 = get_moon_j2000(t1, line1, line2, position=position)\n",
    "    moon_sky2 = SkyCoord(ra_moon2, dec_moon2)\n",
    "    \n",
    "    doff.extend([moon_sky1.separation(moon_sky2).arcsec])\n",
    "    \n",
    "    if ind > 100:\n",
    "        break\n",
    "\n",
    "print(doff)"
   ]
  },
  {
   "cell_type": "markdown",
   "metadata": {},
   "source": [
    "### Below was just to figure out that there's a 5 second difference between time timestamps in the attorb file and the times that are actually used to report the satellite position."
   ]
  },
  {
   "cell_type": "code",
   "execution_count": 69,
   "metadata": {
    "collapsed": false
   },
   "outputs": [],
   "source": [
    "from nustar_lunar_pointing.orbit import get_nustar_location\n",
    "from numpy import sqrt\n",
    "\n",
    "roff = []\n",
    "for ind, t0 in enumerate(att['Time']):\n",
    "    t1 = convert_nustar_time(t0-5)\n",
    "\n",
    "    tle_position = get_nustar_location(t1, line1, line2)\n",
    "    position = att[ind]['Position']\n",
    "        \n",
    "    dx = tle_position - position\n",
    "    dr = 0.\n",
    "\n",
    "    for val in dx:\n",
    "        dr += val**2.\n",
    "        \n",
    "    roff.extend([sqrt(dr)])\n",
    "    \n",
    "    \n",
    "    if ind > 10:\n",
    "        break"
   ]
  }
 ],
 "metadata": {
  "anaconda-cloud": {},
  "kernelspec": {
   "display_name": "Python [default]",
   "language": "python",
   "name": "python3"
  },
  "language_info": {
   "codemirror_mode": {
    "name": "ipython",
    "version": 3
   },
   "file_extension": ".py",
   "mimetype": "text/x-python",
   "name": "python",
   "nbconvert_exporter": "python",
   "pygments_lexer": "ipython3",
   "version": "3.5.1"
  }
 },
 "nbformat": 4,
 "nbformat_minor": 2
}
